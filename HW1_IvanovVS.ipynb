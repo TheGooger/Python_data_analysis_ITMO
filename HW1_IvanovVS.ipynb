{
  "nbformat": 4,
  "nbformat_minor": 0,
  "metadata": {
    "colab": {
      "provenance": []
    },
    "kernelspec": {
      "name": "python3",
      "display_name": "Python 3"
    },
    "language_info": {
      "name": "python"
    }
  },
  "cells": [
    {
      "cell_type": "markdown",
      "source": [
        "Python для анализа данных. Практическое задание №1. Иванов Владимир Сергеевич [373496]."
      ],
      "metadata": {
        "id": "htijf0q5XPNJ"
      }
    },
    {
      "cell_type": "code",
      "source": [
        "class Chocolate:\n",
        "    def __init__(self, price: float, topping: str = ''):\n",
        "        self.price = price\n",
        "        self.topping = topping\n",
        "        if self.price < 0:\n",
        "            raise ValueError(\"Цена батончика должна быть больше нуля\")\n",
        "\n",
        "    def show_my_chocolate(self):\n",
        "        if self.topping:\n",
        "            print(f\"Шоколадный батончик, добавка: {self.topping}\")\n",
        "        else:\n",
        "            print(\"Обычный шоколадный батончик\")\n",
        "\n",
        "    def __str__(self):\n",
        "        return f\"Шоколадный батончик, {self.price} рублей\""
      ],
      "metadata": {
        "id": "3M_jcXfqXOph"
      },
      "execution_count": 55,
      "outputs": []
    },
    {
      "cell_type": "code",
      "source": [
        "twix = Chocolate(7, 'nut')"
      ],
      "metadata": {
        "id": "eK05hlJtY5V-"
      },
      "execution_count": 51,
      "outputs": []
    },
    {
      "cell_type": "code",
      "source": [
        "print(twix.topping)\n",
        "print(twix.price)"
      ],
      "metadata": {
        "colab": {
          "base_uri": "https://localhost:8080/"
        },
        "id": "goxUzs4FZA-d",
        "outputId": "70af5bb8-efb8-4b7b-bcb0-5a4d09134fb8"
      },
      "execution_count": 56,
      "outputs": [
        {
          "output_type": "stream",
          "name": "stdout",
          "text": [
            "nut\n",
            "7\n"
          ]
        }
      ]
    },
    {
      "cell_type": "code",
      "source": [
        "twix.show_my_chocolate()"
      ],
      "metadata": {
        "colab": {
          "base_uri": "https://localhost:8080/"
        },
        "id": "8asPM_noZB8d",
        "outputId": "99567a6c-72b3-4925-e6f9-61414a3387d6"
      },
      "execution_count": 57,
      "outputs": [
        {
          "output_type": "stream",
          "name": "stdout",
          "text": [
            "Шоколадный батончик, добавка: nut\n"
          ]
        }
      ]
    },
    {
      "cell_type": "code",
      "source": [
        "print(twix)"
      ],
      "metadata": {
        "colab": {
          "base_uri": "https://localhost:8080/"
        },
        "id": "LQ6YrRFdc74X",
        "outputId": "be2ec2c9-0741-4414-a225-81a147b426e8"
      },
      "execution_count": 58,
      "outputs": [
        {
          "output_type": "stream",
          "name": "stdout",
          "text": [
            "Шоколадный батончик, 7 рублей\n"
          ]
        }
      ]
    },
    {
      "cell_type": "code",
      "source": [
        "mars = Chocolate(21)"
      ],
      "metadata": {
        "id": "Tnv3JTjjdmKX"
      },
      "execution_count": 59,
      "outputs": []
    },
    {
      "cell_type": "code",
      "source": [
        "mars.show_my_chocolate()"
      ],
      "metadata": {
        "colab": {
          "base_uri": "https://localhost:8080/"
        },
        "id": "_u4uqlRKfSuA",
        "outputId": "3aabcf4c-5fdf-48cc-ca4c-6305a287ee91"
      },
      "execution_count": 60,
      "outputs": [
        {
          "output_type": "stream",
          "name": "stdout",
          "text": [
            "Обычный шоколадный батончик\n"
          ]
        }
      ]
    },
    {
      "cell_type": "code",
      "source": [
        "print(mars)"
      ],
      "metadata": {
        "colab": {
          "base_uri": "https://localhost:8080/"
        },
        "id": "H8ZIxV0VfV-o",
        "outputId": "d47d4854-75f5-42b0-cc0d-6e01c5ff83b2"
      },
      "execution_count": 61,
      "outputs": [
        {
          "output_type": "stream",
          "name": "stdout",
          "text": [
            "Шоколадный батончик, 21 рублей\n"
          ]
        }
      ]
    },
    {
      "cell_type": "code",
      "source": [
        "step = Chocolate(-12, 'milk')"
      ],
      "metadata": {
        "colab": {
          "base_uri": "https://localhost:8080/",
          "height": 263
        },
        "id": "c_rXyihEfXnn",
        "outputId": "4a1c1e30-833e-4153-b355-a824e4d61cce"
      },
      "execution_count": 63,
      "outputs": [
        {
          "output_type": "error",
          "ename": "ValueError",
          "evalue": "Цена батончика должна быть больше нуля",
          "traceback": [
            "\u001b[0;31m---------------------------------------------------------------------------\u001b[0m",
            "\u001b[0;31mValueError\u001b[0m                                Traceback (most recent call last)",
            "\u001b[0;32m<ipython-input-63-db3238bbe711>\u001b[0m in \u001b[0;36m<cell line: 1>\u001b[0;34m()\u001b[0m\n\u001b[0;32m----> 1\u001b[0;31m \u001b[0mstep\u001b[0m \u001b[0;34m=\u001b[0m \u001b[0mChocolate\u001b[0m\u001b[0;34m(\u001b[0m\u001b[0;34m-\u001b[0m\u001b[0;36m12\u001b[0m\u001b[0;34m,\u001b[0m \u001b[0;34m'milk'\u001b[0m\u001b[0;34m)\u001b[0m\u001b[0;34m\u001b[0m\u001b[0;34m\u001b[0m\u001b[0m\n\u001b[0m",
            "\u001b[0;32m<ipython-input-55-052063b16d52>\u001b[0m in \u001b[0;36m__init__\u001b[0;34m(self, price, topping)\u001b[0m\n\u001b[1;32m      4\u001b[0m         \u001b[0mself\u001b[0m\u001b[0;34m.\u001b[0m\u001b[0mtopping\u001b[0m \u001b[0;34m=\u001b[0m \u001b[0mtopping\u001b[0m\u001b[0;34m\u001b[0m\u001b[0;34m\u001b[0m\u001b[0m\n\u001b[1;32m      5\u001b[0m         \u001b[0;32mif\u001b[0m \u001b[0mself\u001b[0m\u001b[0;34m.\u001b[0m\u001b[0mprice\u001b[0m \u001b[0;34m<\u001b[0m \u001b[0;36m0\u001b[0m\u001b[0;34m:\u001b[0m\u001b[0;34m\u001b[0m\u001b[0;34m\u001b[0m\u001b[0m\n\u001b[0;32m----> 6\u001b[0;31m             \u001b[0;32mraise\u001b[0m \u001b[0mValueError\u001b[0m\u001b[0;34m(\u001b[0m\u001b[0;34m\"Цена батончика должна быть больше нуля\"\u001b[0m\u001b[0;34m)\u001b[0m\u001b[0;34m\u001b[0m\u001b[0;34m\u001b[0m\u001b[0m\n\u001b[0m\u001b[1;32m      7\u001b[0m \u001b[0;34m\u001b[0m\u001b[0m\n\u001b[1;32m      8\u001b[0m     \u001b[0;32mdef\u001b[0m \u001b[0mshow_my_chocolate\u001b[0m\u001b[0;34m(\u001b[0m\u001b[0mself\u001b[0m\u001b[0;34m)\u001b[0m\u001b[0;34m:\u001b[0m\u001b[0;34m\u001b[0m\u001b[0;34m\u001b[0m\u001b[0m\n",
            "\u001b[0;31mValueError\u001b[0m: Цена батончика должна быть больше нуля"
          ]
        }
      ]
    },
    {
      "cell_type": "code",
      "source": [],
      "metadata": {
        "id": "V9AihncufeFI"
      },
      "execution_count": null,
      "outputs": []
    }
  ]
}